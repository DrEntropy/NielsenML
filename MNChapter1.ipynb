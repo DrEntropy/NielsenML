{
 "cells": [
  {
   "cell_type": "markdown",
   "id": "43d4acdd-bf2e-4ff2-be11-48d77bacbbeb",
   "metadata": {},
   "source": [
    "# Chapter 1"
   ]
  },
  {
   "cell_type": "code",
   "execution_count": 1,
   "id": "4cc4cf60-a70c-49c2-bdde-2878a2816d24",
   "metadata": {},
   "outputs": [],
   "source": [
    "import numpy as np\n",
    "import random\n",
    "import mnist_loader\n",
    "import network"
   ]
  },
  {
   "cell_type": "code",
   "execution_count": 2,
   "id": "0e11b020-8850-465c-a665-e2a2919a140e",
   "metadata": {},
   "outputs": [],
   "source": [
    "\n",
    "training_data, validation_data, test_data = mnist_loader.load_data_wrapper()"
   ]
  },
  {
   "cell_type": "code",
   "execution_count": 3,
   "id": "e5f6f841-5227-4518-b610-d110e3fb63a4",
   "metadata": {},
   "outputs": [],
   "source": [
    "net = network.Network([784,30,10])"
   ]
  },
  {
   "cell_type": "code",
   "execution_count": 4,
   "id": "b5e7e918-4ccd-48ad-a257-fa5f40366cf9",
   "metadata": {},
   "outputs": [
    {
     "name": "stdout",
     "output_type": "stream",
     "text": [
      "Epoch 0: 9108 / 10000\n",
      "Epoch 1: 9210 / 10000\n",
      "Epoch 2: 9311 / 10000\n",
      "Epoch 3: 9324 / 10000\n",
      "Epoch 4: 9357 / 10000\n",
      "Epoch 5: 9401 / 10000\n",
      "Epoch 6: 9385 / 10000\n",
      "Epoch 7: 9408 / 10000\n",
      "Epoch 8: 9441 / 10000\n",
      "Epoch 9: 9451 / 10000\n",
      "Epoch 10: 9454 / 10000\n",
      "Epoch 11: 9485 / 10000\n",
      "Epoch 12: 9474 / 10000\n",
      "Epoch 13: 9452 / 10000\n",
      "Epoch 14: 9468 / 10000\n",
      "Epoch 15: 9468 / 10000\n",
      "Epoch 16: 9472 / 10000\n",
      "Epoch 17: 9485 / 10000\n",
      "Epoch 18: 9476 / 10000\n",
      "Epoch 19: 9458 / 10000\n",
      "Epoch 20: 9464 / 10000\n",
      "Epoch 21: 9495 / 10000\n",
      "Epoch 22: 9463 / 10000\n",
      "Epoch 23: 9491 / 10000\n",
      "Epoch 24: 9465 / 10000\n",
      "Epoch 25: 9479 / 10000\n",
      "Epoch 26: 9490 / 10000\n",
      "Epoch 27: 9491 / 10000\n",
      "Epoch 28: 9509 / 10000\n",
      "Epoch 29: 9504 / 10000\n"
     ]
    }
   ],
   "source": [
    "net.SGD(training_data,30,10,3.0,test_data=test_data)"
   ]
  },
  {
   "cell_type": "code",
   "execution_count": 5,
   "id": "4c9cce02-c030-4f6f-83b7-ede08d4fa555",
   "metadata": {},
   "outputs": [
    {
     "data": {
      "text/plain": [
       "10000"
      ]
     },
     "execution_count": 5,
     "metadata": {},
     "output_type": "execute_result"
    }
   ],
   "source": [
    "len(test_data)"
   ]
  },
  {
   "cell_type": "code",
   "execution_count": 6,
   "id": "16fd9702-abca-41d3-8bb1-5a129a1b428e",
   "metadata": {},
   "outputs": [],
   "source": [
    "# compare to network with no hidden layer\n",
    "net2 = network.Network([784,10])"
   ]
  },
  {
   "cell_type": "code",
   "execution_count": 10,
   "id": "0c96a810-6350-4a8f-99de-baddd6472ebf",
   "metadata": {},
   "outputs": [
    {
     "name": "stdout",
     "output_type": "stream",
     "text": [
      "Epoch 0: 9088 / 10000\n",
      "Epoch 1: 9087 / 10000\n",
      "Epoch 2: 9106 / 10000\n",
      "Epoch 3: 9126 / 10000\n",
      "Epoch 4: 9117 / 10000\n",
      "Epoch 5: 9105 / 10000\n",
      "Epoch 6: 9108 / 10000\n",
      "Epoch 7: 9134 / 10000\n",
      "Epoch 8: 9122 / 10000\n",
      "Epoch 9: 9105 / 10000\n",
      "Epoch 10: 9118 / 10000\n",
      "Epoch 11: 9144 / 10000\n",
      "Epoch 12: 9139 / 10000\n",
      "Epoch 13: 9126 / 10000\n",
      "Epoch 14: 9132 / 10000\n",
      "Epoch 15: 9121 / 10000\n",
      "Epoch 16: 9146 / 10000\n",
      "Epoch 17: 9116 / 10000\n",
      "Epoch 18: 9170 / 10000\n",
      "Epoch 19: 9144 / 10000\n",
      "Epoch 20: 9130 / 10000\n",
      "Epoch 21: 9141 / 10000\n",
      "Epoch 22: 9146 / 10000\n",
      "Epoch 23: 9146 / 10000\n",
      "Epoch 24: 9148 / 10000\n",
      "Epoch 25: 9150 / 10000\n",
      "Epoch 26: 9130 / 10000\n",
      "Epoch 27: 9142 / 10000\n",
      "Epoch 28: 9167 / 10000\n",
      "Epoch 29: 9158 / 10000\n"
     ]
    }
   ],
   "source": [
    "net2.SGD(training_data,30,10,20.0,test_data=test_data)"
   ]
  },
  {
   "cell_type": "code",
   "execution_count": 12,
   "id": "6b1ba19f-857d-4414-86c4-a52961f93ecb",
   "metadata": {},
   "outputs": [],
   "source": [
    "# guess...\n",
    "net3 = network.Network([784,50,30,10])"
   ]
  },
  {
   "cell_type": "code",
   "execution_count": 14,
   "id": "ef3626d3-9f7a-4e3c-948d-fbc89f3804f6",
   "metadata": {},
   "outputs": [
    {
     "name": "stdout",
     "output_type": "stream",
     "text": [
      "Epoch 0: 9443 / 10000\n",
      "Epoch 1: 9433 / 10000\n",
      "Epoch 2: 9469 / 10000\n",
      "Epoch 3: 9514 / 10000\n",
      "Epoch 4: 9484 / 10000\n",
      "Epoch 5: 9473 / 10000\n",
      "Epoch 6: 9483 / 10000\n",
      "Epoch 7: 9452 / 10000\n",
      "Epoch 8: 9523 / 10000\n",
      "Epoch 9: 9527 / 10000\n",
      "Epoch 10: 9544 / 10000\n",
      "Epoch 11: 9563 / 10000\n",
      "Epoch 12: 9544 / 10000\n",
      "Epoch 13: 9476 / 10000\n",
      "Epoch 14: 9523 / 10000\n",
      "Epoch 15: 9573 / 10000\n",
      "Epoch 16: 9550 / 10000\n",
      "Epoch 17: 9534 / 10000\n",
      "Epoch 18: 9523 / 10000\n",
      "Epoch 19: 9545 / 10000\n",
      "Epoch 20: 9567 / 10000\n",
      "Epoch 21: 9546 / 10000\n",
      "Epoch 22: 9546 / 10000\n",
      "Epoch 23: 9546 / 10000\n",
      "Epoch 24: 9517 / 10000\n",
      "Epoch 25: 9567 / 10000\n",
      "Epoch 26: 9577 / 10000\n",
      "Epoch 27: 9490 / 10000\n",
      "Epoch 28: 9593 / 10000\n",
      "Epoch 29: 9526 / 10000\n"
     ]
    }
   ],
   "source": [
    "net3.SGD(training_data,30,10,5.0,test_data=test_data)"
   ]
  },
  {
   "cell_type": "markdown",
   "id": "fba76695-78df-4048-8d1d-11bb12a387fc",
   "metadata": {},
   "source": [
    "Not even slightly better."
   ]
  },
  {
   "cell_type": "code",
   "execution_count": null,
   "id": "2d689849-41bb-4e5d-b61d-6a31bc4af34d",
   "metadata": {},
   "outputs": [],
   "source": []
  }
 ],
 "metadata": {
  "kernelspec": {
   "display_name": "Python 3 (ipykernel)",
   "language": "python",
   "name": "python3"
  },
  "language_info": {
   "codemirror_mode": {
    "name": "ipython",
    "version": 3
   },
   "file_extension": ".py",
   "mimetype": "text/x-python",
   "name": "python",
   "nbconvert_exporter": "python",
   "pygments_lexer": "ipython3",
   "version": "3.7.11"
  }
 },
 "nbformat": 4,
 "nbformat_minor": 5
}
